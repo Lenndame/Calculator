{
 "cells": [
  {
   "cell_type": "code",
   "execution_count": 13,
   "id": "58665d83",
   "metadata": {},
   "outputs": [
    {
     "name": "stdout",
     "output_type": "stream",
     "text": [
      "Das Ergebnis ist 0.0\n"
     ]
    }
   ],
   "source": [
    "\"\"\"\n",
    "Programmiere einen simplen Taschenrechner mit den 4 Grundrechenarten.\n",
    "\n",
    "Wenn der eingegebene Operator \"q\" ist, soll das Programm nichts machen.\n",
    "Division durch 0 soll nicht möglich sein, das Programm soll deshalb aber auch\n",
    "nicht abbrechen, sondern es soll eine User-Meldung kommen: Division durch Null ist nicht möglich.\n",
    "\n",
    "Eine Eingabe könnte so aussehen:\n",
    "\n",
    "---Beispiel 1-------------\n",
    "Bitte gebe den gewünschen Operator ein (q für Abbruch): + 2 4\n",
    "Das Ergebnis ist: 6\n",
    "\n",
    "---Beispiel 2-------------\n",
    "Bitte gebe den gewünschen Operator ein (q für Abbruch): * 4 2\n",
    "Das Ergebnis ist: 8\n",
    "\n",
    "---Beispiel 4-------------\n",
    "Bitte gebe den gewünschen Operator ein (q für Abbruch): / 4 0\n",
    "Division durch 0 ist nicht möglich\n",
    "\n",
    "Bitte gebe den gewünschen Operator ein (q für Abbruch): q\n",
    "good bye\n",
    "\"\"\"\n",
    "\n",
    "user_input = input(\"Bitte geben den gewünschten Operator ein (q für abbruch): + zahl zahl\")\n",
    "input_list = user_input.split(\",\")\n",
    "int_list = []\n",
    "result = 0\n",
    "\n",
    "for zahl in user_input:\n",
    "    int_list.append(zahl)\n",
    "\n",
    "if \"q\" in user_input:\n",
    "    print(\"Good Bye\")\n",
    "elif int_list[0] == \"+\":\n",
    "    result = int(int_list[2]) + int(int_list[4])\n",
    "    print(f\"Das Ergebnis ist {result}\")\n",
    "elif int_list[0] == \"-\":\n",
    "    result = int(int_list[2]) - int(int_list[4])\n",
    "    print(f\"Das Ergebnis ist {result}\")\n",
    "elif int_list[0] == \"*\":\n",
    "    result = int(int_list[2]) * int(int_list[4])\n",
    "    print(f\"Das Ergebnis ist {result}\")\n",
    "elif int_list[0] == \"/\":\n",
    "    if int(int_list[4]) == 0:\n",
    "        print(\"Nicht durch Null teilen!\")\n",
    "    else:\n",
    "        result = int(int_list[2]) / int(int_list[4])\n",
    "        print(f\"Das Ergebnis ist {result}\")"
   ]
  }
 ],
 "metadata": {
  "kernelspec": {
   "display_name": "Python 3 (ipykernel)",
   "language": "python",
   "name": "python3"
  },
  "language_info": {
   "codemirror_mode": {
    "name": "ipython",
    "version": 3
   },
   "file_extension": ".py",
   "mimetype": "text/x-python",
   "name": "python",
   "nbconvert_exporter": "python",
   "pygments_lexer": "ipython3",
   "version": "3.11.2"
  }
 },
 "nbformat": 4,
 "nbformat_minor": 5
}
